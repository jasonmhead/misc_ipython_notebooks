{
 "cells": [
  {
   "cell_type": "code",
   "execution_count": 9,
   "metadata": {
    "collapsed": false
   },
   "outputs": [],
   "source": [
    "import cv2\n",
    "import cv2.cv\n",
    "import numpy as np\n",
    "from matplotlib import pyplot as plt\n",
    "file_dir = \"/Users/admin/Documents/business/recycleMyMachiene/\""
   ]
  },
  {
   "cell_type": "code",
   "execution_count": 10,
   "metadata": {
    "collapsed": false
   },
   "outputs": [],
   "source": [
    "# Camera 0 is the integrated web cam on my netbook\n",
    "camera_ports = [0] # [0,1]\n",
    "\n",
    "# Captures a single image from the camera and returns it in PIL format\n",
    "def get_image(camera):\n",
    " # read is the easiest way to get a full image out of a VideoCapture object.\n",
    " retval, im = camera.read()\n",
    " return im\n",
    " \n",
    "def capture_images(camera_ports):\n",
    "    for camera_port in camera_ports:\n",
    "        #Number of frames to throw away while the camera adjusts to light levels\n",
    "        ramp_frames = 30\n",
    "         \n",
    "        # Now we can initialize the camera capture object with the cv2.VideoCapture class.\n",
    "        # All it needs is the index to a camera port.\n",
    "        camera = cv2.VideoCapture(camera_port)\n",
    "    \n",
    "        # Ramp the camera - these frames will be discarded and are only used to allow v4l2\n",
    "        # to adjust light levels, if necessary\n",
    "        for i in xrange(ramp_frames):\n",
    "         temp = get_image(camera)\n",
    "        print(\"Finished...\")\n",
    "        # Take the actual image we want to keep\n",
    "        camera_capture = get_image(camera)\n",
    "        file = file_dir+\"circle_config.png\"\n",
    "        \n",
    "        # A nice feature of the imwrite method is that it will automatically choose the\n",
    "        # correct format based on the file extension you provide. Convenient!\n",
    "        cv2.imwrite(file, camera_capture)\n",
    "         \n",
    "        # You'll want to release the camera, otherwise you won't be able to create a new\n",
    "        # capture object until your script exits\n",
    "        del(camera)"
   ]
  },
  {
   "cell_type": "code",
   "execution_count": 11,
   "metadata": {
    "collapsed": false
   },
   "outputs": [
    {
     "name": "stdout",
     "output_type": "stream",
     "text": [
      "Finished...\n"
     ]
    }
   ],
   "source": [
    "capture_images(camera_ports)"
   ]
  },
  {
   "cell_type": "code",
   "execution_count": 7,
   "metadata": {
    "collapsed": false
   },
   "outputs": [
    {
     "ename": "AttributeError",
     "evalue": "'numpy.ndarray' object has no attribute 'read'",
     "output_type": "error",
     "traceback": [
      "\u001b[0;31m---------------------------------------------------------------------------\u001b[0m",
      "\u001b[0;31mAttributeError\u001b[0m                            Traceback (most recent call last)",
      "\u001b[0;32m<ipython-input-7-3ff0f43bb42a>\u001b[0m in \u001b[0;36m<module>\u001b[0;34m()\u001b[0m\n\u001b[1;32m     25\u001b[0m     \u001b[0;32mdel\u001b[0m\u001b[0;34m(\u001b[0m\u001b[0mcap\u001b[0m\u001b[0;34m)\u001b[0m\u001b[0;34m\u001b[0m\u001b[0m\n\u001b[1;32m     26\u001b[0m \u001b[0;34m\u001b[0m\u001b[0m\n\u001b[0;32m---> 27\u001b[0;31m \u001b[0mget_circ\u001b[0m\u001b[0;34m(\u001b[0m\u001b[0mcap\u001b[0m\u001b[0;34m)\u001b[0m\u001b[0;34m\u001b[0m\u001b[0m\n\u001b[0m",
      "\u001b[0;32m<ipython-input-7-3ff0f43bb42a>\u001b[0m in \u001b[0;36mget_circ\u001b[0;34m(cap)\u001b[0m\n\u001b[1;32m      6\u001b[0m \u001b[0;34m\u001b[0m\u001b[0m\n\u001b[1;32m      7\u001b[0m     \u001b[0;31m# Take each frame\u001b[0m\u001b[0;34m\u001b[0m\u001b[0;34m\u001b[0m\u001b[0m\n\u001b[0;32m----> 8\u001b[0;31m     \u001b[0m_\u001b[0m\u001b[0;34m,\u001b[0m \u001b[0mframe\u001b[0m \u001b[0;34m=\u001b[0m \u001b[0mcap\u001b[0m\u001b[0;34m.\u001b[0m\u001b[0mread\u001b[0m\u001b[0;34m(\u001b[0m\u001b[0;34m)\u001b[0m\u001b[0;34m\u001b[0m\u001b[0m\n\u001b[0m\u001b[1;32m      9\u001b[0m     \u001b[0mframe\u001b[0m \u001b[0;34m=\u001b[0m \u001b[0mcv2\u001b[0m\u001b[0;34m.\u001b[0m\u001b[0mmedianBlur\u001b[0m\u001b[0;34m(\u001b[0m\u001b[0mframe\u001b[0m\u001b[0;34m,\u001b[0m\u001b[0;36m5\u001b[0m\u001b[0;34m)\u001b[0m\u001b[0;34m\u001b[0m\u001b[0m\n\u001b[1;32m     10\u001b[0m     \u001b[0mcimg\u001b[0m \u001b[0;34m=\u001b[0m \u001b[0mcv2\u001b[0m\u001b[0;34m.\u001b[0m\u001b[0mcvtColor\u001b[0m\u001b[0;34m(\u001b[0m\u001b[0mframe\u001b[0m\u001b[0;34m,\u001b[0m\u001b[0mcv2\u001b[0m\u001b[0;34m.\u001b[0m\u001b[0mCOLOR_BGR2GRAY\u001b[0m\u001b[0;34m)\u001b[0m\u001b[0;34m\u001b[0m\u001b[0m\n",
      "\u001b[0;31mAttributeError\u001b[0m: 'numpy.ndarray' object has no attribute 'read'"
     ]
    }
   ],
   "source": [
    "\n",
    "#cap = cv2.VideoCapture(1)\n",
    "cap = cv2.imread(file_dir+\"circle_config.png\")\n",
    "\n",
    "def get_circ(cap):\n",
    "\n",
    "    # Take each frame\n",
    "    _, frame = cap.read()\n",
    "    frame = cv2.medianBlur(frame,5)\n",
    "    cimg = cv2.cvtColor(frame,cv2.COLOR_BGR2GRAY)\n",
    "\n",
    "    circles = cv2.HoughCircles(cimg,3,1,20, param1=50,param2=70,minRadius=0,maxRadius=0)\n",
    "\n",
    "    circles = np.uint16(np.around(circles))\n",
    "\n",
    "    for i in circles[0,:]:\n",
    "        # draw the outer circle\n",
    "        cv2.circle(cimg,(i[0],i[1]),i[2],(0,255,0),2)\n",
    "        # draw the center of the circle\n",
    "        cv2.circle(cimg,(i[0],i[1]),2,(0,0,255),3)\n",
    "\n",
    "    cv2.startWindowThread() \n",
    "    #cv2.namedWindow(\"preview\")\n",
    "    cv2.imshow('frame',cimg)\n",
    "    del(cap)\n",
    "\n",
    "get_circ(cap)"
   ]
  },
  {
   "cell_type": "code",
   "execution_count": 8,
   "metadata": {
    "collapsed": false
   },
   "outputs": [],
   "source": [
    "cv2.destroyAllWindows()"
   ]
  },
  {
   "cell_type": "code",
   "execution_count": null,
   "metadata": {
    "collapsed": false
   },
   "outputs": [],
   "source": []
  }
 ],
 "metadata": {
  "kernelspec": {
   "display_name": "Python 2",
   "language": "python",
   "name": "python2"
  },
  "language_info": {
   "codemirror_mode": {
    "name": "ipython",
    "version": 2
   },
   "file_extension": ".py",
   "mimetype": "text/x-python",
   "name": "python",
   "nbconvert_exporter": "python",
   "pygments_lexer": "ipython2",
   "version": "2.7.10"
  }
 },
 "nbformat": 4,
 "nbformat_minor": 0
}
