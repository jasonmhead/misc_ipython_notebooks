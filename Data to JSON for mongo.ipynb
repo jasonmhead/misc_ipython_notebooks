{
 "metadata": {
  "name": "",
  "signature": "sha256:aaa6a36dc44ad718647003559832e47bb107545d4385fcd0f92cab4e9525679a"
 },
 "nbformat": 3,
 "nbformat_minor": 0,
 "worksheets": [
  {
   "cells": [
    {
     "cell_type": "code",
     "collapsed": false,
     "input": [
      "import json\n",
      "from urllib import urlopen\n",
      "import nltk\n",
      "import urllib2\n",
      "from urllib2 import urlparse\n",
      "from collections import defaultdict\n",
      "import re\n",
      "import nltk.data\n",
      "from nltk.tokenize.punkt import PunktWordTokenizer, PunktSentenceTokenizer, PunktParameters"
     ],
     "language": "python",
     "metadata": {},
     "outputs": [],
     "prompt_number": 23
    },
    {
     "cell_type": "code",
     "collapsed": false,
     "input": [
      "data= \"http://104.131.135.248/static/source_data/testdata.txt\""
     ],
     "language": "python",
     "metadata": {},
     "outputs": [],
     "prompt_number": 29
    },
    {
     "cell_type": "code",
     "collapsed": false,
     "input": [
      "raw = urllib2.urlopen(urllib2.Request(data)).read().rstrip()\n",
      "punkt_param = PunktParameters()\n",
      "punkt_param.abbrev_types = set(['dr', 'vs', 'mr', 'mrs', 'prof', 'inc','jan','feb','mar','apr','may','jun','jul','aug','sept','oct','nov','dec'])\n",
      "sentence_splitter = PunktSentenceTokenizer(punkt_param)\n",
      "\n",
      "raw_sentances = sentence_splitter.tokenize(raw.lower().strip())\n",
      "\n",
      "tokenized_text = PunktWordTokenizer().tokenize(raw_sentances[4])\n",
      "pos_tokenized_text = nltk.pos_tag(tokenized_text)\n",
      "\n",
      "#for i, j in enumerate(taggs):\n",
      "    #print str(i)+\" : \"+str(j)\n",
      "print pos_tokenized_text\n",
      "\n",
      "\n",
      "\n"
     ],
     "language": "python",
     "metadata": {},
     "outputs": [
      {
       "output_type": "stream",
       "stream": "stdout",
       "text": [
        "[('their', 'PRP$'), ('response', 'NN'), ('was', 'VBD'), ('in', 'IN'), ('some', 'DT'), ('ways', 'NNS'), ('predictable', 'JJ'), (':', ':'), ('a', 'DT'), ('grudgingly', 'RB'), ('slow', 'JJ'), ('and', 'CC'), ('piecemeal', 'NN'), ('confirmation', 'NN'), (',', ','), ('followed', 'VBN'), ('by', 'IN'), ('scapegoating', 'NN'), ('and', 'CC'), ('spin.', 'NNP')]\n"
       ]
      }
     ],
     "prompt_number": 38
    },
    {
     "cell_type": "code",
     "collapsed": false,
     "input": [],
     "language": "python",
     "metadata": {},
     "outputs": [],
     "prompt_number": 11
    },
    {
     "cell_type": "code",
     "collapsed": false,
     "input": [],
     "language": "python",
     "metadata": {},
     "outputs": []
    }
   ],
   "metadata": {}
  }
 ]
}